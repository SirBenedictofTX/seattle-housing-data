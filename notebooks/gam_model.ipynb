{
 "cells": [
  {
   "cell_type": "code",
   "execution_count": 16,
   "metadata": {},
   "outputs": [],
   "source": [
    "# necessary imports\n",
    "\n",
    "# data\n",
    "import pandas as pd\n",
    "import numpy as np\n",
    "\n",
    "# plotting\n",
    "import matplotlib.pyplot as plt\n",
    "import seaborn as sns\n",
    "%matplotlib inline\n",
    "\n",
    "# modeling and metrics\n",
    "from sklearn.linear_model import LinearRegression, Lasso, Ridge\n",
    "from sklearn.preprocessing import PolynomialFeatures, RobustScaler\n",
    "from sklearn.model_selection import cross_val_score\n",
    "from sklearn.pipeline import Pipeline, make_pipeline\n",
    "\n",
    "from sklearn.ensemble import BaggingRegressor\n",
    "from sklearn.model_selection import cross_validate, cross_val_predict\n",
    "from pyearth import Earth\n",
    "from pygam import LinearGAM, GAM, f, s, te\n",
    "\n",
    "from sklearn.model_selection import train_test_split\n",
    "from sklearn.metrics import r2_score, mean_absolute_error, mean_squared_error"
   ]
  },
  {
   "cell_type": "code",
   "execution_count": 17,
   "metadata": {},
   "outputs": [
    {
     "data": {
      "application/javascript": [
       "IPython.OutputArea.prototype._should_scroll = function(lines) {\n",
       "    return false;\n",
       "}\n"
      ],
      "text/plain": [
       "<IPython.core.display.Javascript object>"
      ]
     },
     "metadata": {},
     "output_type": "display_data"
    }
   ],
   "source": [
    "%%javascript\n",
    "IPython.OutputArea.prototype._should_scroll = function(lines) {\n",
    "    return false;\n",
    "}"
   ]
  },
  {
   "cell_type": "code",
   "execution_count": 18,
   "metadata": {},
   "outputs": [
    {
     "data": {
      "text/html": [
       "<div>\n",
       "<style scoped>\n",
       "    .dataframe tbody tr th:only-of-type {\n",
       "        vertical-align: middle;\n",
       "    }\n",
       "\n",
       "    .dataframe tbody tr th {\n",
       "        vertical-align: top;\n",
       "    }\n",
       "\n",
       "    .dataframe thead th {\n",
       "        text-align: right;\n",
       "    }\n",
       "</style>\n",
       "<table border=\"1\" class=\"dataframe\">\n",
       "  <thead>\n",
       "    <tr style=\"text-align: right;\">\n",
       "      <th></th>\n",
       "      <th>date</th>\n",
       "      <th>price</th>\n",
       "      <th>bedrooms</th>\n",
       "      <th>bathrooms</th>\n",
       "      <th>sqft_living</th>\n",
       "      <th>sqft_lot</th>\n",
       "      <th>floors</th>\n",
       "      <th>waterfront</th>\n",
       "      <th>view</th>\n",
       "      <th>condition</th>\n",
       "      <th>...</th>\n",
       "      <th>zipcode</th>\n",
       "      <th>lat</th>\n",
       "      <th>long</th>\n",
       "      <th>sqft_living15</th>\n",
       "      <th>sqft_lot15</th>\n",
       "      <th>waterfront_null</th>\n",
       "      <th>waterfront_ind</th>\n",
       "      <th>yr_renovated_scheme1</th>\n",
       "      <th>yr_renovated_null</th>\n",
       "      <th>yr_renovated_ind</th>\n",
       "    </tr>\n",
       "    <tr>\n",
       "      <th>id</th>\n",
       "      <th></th>\n",
       "      <th></th>\n",
       "      <th></th>\n",
       "      <th></th>\n",
       "      <th></th>\n",
       "      <th></th>\n",
       "      <th></th>\n",
       "      <th></th>\n",
       "      <th></th>\n",
       "      <th></th>\n",
       "      <th></th>\n",
       "      <th></th>\n",
       "      <th></th>\n",
       "      <th></th>\n",
       "      <th></th>\n",
       "      <th></th>\n",
       "      <th></th>\n",
       "      <th></th>\n",
       "      <th></th>\n",
       "      <th></th>\n",
       "      <th></th>\n",
       "    </tr>\n",
       "  </thead>\n",
       "  <tbody>\n",
       "    <tr>\n",
       "      <th>7129300520</th>\n",
       "      <td>10/13/2014</td>\n",
       "      <td>221900.0</td>\n",
       "      <td>3</td>\n",
       "      <td>1.00</td>\n",
       "      <td>1180</td>\n",
       "      <td>5650</td>\n",
       "      <td>1.0</td>\n",
       "      <td>1.0</td>\n",
       "      <td>0.0</td>\n",
       "      <td>3</td>\n",
       "      <td>...</td>\n",
       "      <td>98178</td>\n",
       "      <td>47.5112</td>\n",
       "      <td>-122.257</td>\n",
       "      <td>1340</td>\n",
       "      <td>5650</td>\n",
       "      <td>1</td>\n",
       "      <td>0</td>\n",
       "      <td>0</td>\n",
       "      <td>0</td>\n",
       "      <td>0</td>\n",
       "    </tr>\n",
       "    <tr>\n",
       "      <th>6414100192</th>\n",
       "      <td>12/9/2014</td>\n",
       "      <td>538000.0</td>\n",
       "      <td>3</td>\n",
       "      <td>2.25</td>\n",
       "      <td>2570</td>\n",
       "      <td>7242</td>\n",
       "      <td>2.0</td>\n",
       "      <td>0.0</td>\n",
       "      <td>0.0</td>\n",
       "      <td>3</td>\n",
       "      <td>...</td>\n",
       "      <td>98125</td>\n",
       "      <td>47.7210</td>\n",
       "      <td>-122.319</td>\n",
       "      <td>1690</td>\n",
       "      <td>7639</td>\n",
       "      <td>0</td>\n",
       "      <td>0</td>\n",
       "      <td>2</td>\n",
       "      <td>0</td>\n",
       "      <td>1</td>\n",
       "    </tr>\n",
       "  </tbody>\n",
       "</table>\n",
       "<p>2 rows × 24 columns</p>\n",
       "</div>"
      ],
      "text/plain": [
       "                  date     price  bedrooms  bathrooms  sqft_living  sqft_lot  \\\n",
       "id                                                                             \n",
       "7129300520  10/13/2014  221900.0         3       1.00         1180      5650   \n",
       "6414100192   12/9/2014  538000.0         3       2.25         2570      7242   \n",
       "\n",
       "            floors  waterfront  view  condition  ...  zipcode      lat  \\\n",
       "id                                               ...                     \n",
       "7129300520     1.0         1.0   0.0          3  ...    98178  47.5112   \n",
       "6414100192     2.0         0.0   0.0          3  ...    98125  47.7210   \n",
       "\n",
       "               long  sqft_living15  sqft_lot15  waterfront_null  \\\n",
       "id                                                                \n",
       "7129300520 -122.257           1340        5650                1   \n",
       "6414100192 -122.319           1690        7639                0   \n",
       "\n",
       "            waterfront_ind  yr_renovated_scheme1  yr_renovated_null  \\\n",
       "id                                                                    \n",
       "7129300520               0                     0                  0   \n",
       "6414100192               0                     2                  0   \n",
       "\n",
       "            yr_renovated_ind  \n",
       "id                            \n",
       "7129300520                 0  \n",
       "6414100192                 1  \n",
       "\n",
       "[2 rows x 24 columns]"
      ]
     },
     "execution_count": 18,
     "metadata": {},
     "output_type": "execute_result"
    }
   ],
   "source": [
    "# read the cleaned data into a DataFrame and check the first two observations\n",
    "df = pd.read_csv('kc_house_data_clean.csv', index_col=0)\n",
    "df.head(2)"
   ]
  },
  {
   "cell_type": "code",
   "execution_count": 19,
   "metadata": {},
   "outputs": [
    {
     "data": {
      "text/plain": [
       "array([[-1.22257e+02,  4.75112e+01,  1.18000e+03, ...,  0.00000e+00,\n",
       "         1.00000e+00,  5.65000e+03],\n",
       "       [-1.22319e+02,  4.77210e+01,  2.57000e+03, ...,  2.00000e+00,\n",
       "         2.00000e+00,  7.24200e+03],\n",
       "       [-1.22233e+02,  4.77379e+01,  7.70000e+02, ...,  1.00000e+00,\n",
       "         1.00000e+00,  1.00000e+04],\n",
       "       ...,\n",
       "       [-1.22299e+02,  4.75944e+01,  1.02000e+03, ...,  0.00000e+00,\n",
       "         2.00000e+00,  1.35000e+03],\n",
       "       [-1.22069e+02,  4.75345e+01,  1.60000e+03, ...,  0.00000e+00,\n",
       "         2.00000e+00,  2.38800e+03],\n",
       "       [-1.22299e+02,  4.75941e+01,  1.02000e+03, ...,  0.00000e+00,\n",
       "         2.00000e+00,  1.07600e+03]])"
      ]
     },
     "metadata": {},
     "output_type": "display_data"
    },
    {
     "data": {
      "text/plain": [
       "array([221900., 538000., 180000., ..., 402101., 400000., 325000.])"
      ]
     },
     "metadata": {},
     "output_type": "display_data"
    }
   ],
   "source": [
    "# define variables for the model\n",
    "X = df[['long',                     # 0\n",
    "        'lat',                      # 1\n",
    "        'sqft_living',              # 2\n",
    "        'grade',                    # 3\n",
    "        'bathrooms',                # 4\n",
    "        'condition',                # 5\n",
    "        'waterfront',               # 6\n",
    "        'yr_renovated_scheme1',     # 7\n",
    "        'floors',                   # 8\n",
    "        'sqft_lot']].values         # 9\n",
    "y = df['price'].values\n",
    "\n",
    "# inspect the variables\n",
    "display(X)\n",
    "display(y)"
   ]
  },
  {
   "cell_type": "code",
   "execution_count": 20,
   "metadata": {},
   "outputs": [],
   "source": [
    "# perform test/training split\n",
    "X_train, X_test, y_train, y_test = train_test_split(X, y, test_size=0.10, random_state=42)"
   ]
  },
  {
   "cell_type": "code",
   "execution_count": 21,
   "metadata": {},
   "outputs": [],
   "source": [
    "# fit the model\n",
    "gam=GAM(n_splines=25, \n",
    "        terms=s(2)+s(3)+s(4)+s(5)+s(6)+s(7)+s(8)+s(9)+te(0,1)+te(2,9),\n",
    "        distribution = 'gamma', link='log').fit(X_train,y_train)"
   ]
  },
  {
   "cell_type": "code",
   "execution_count": 22,
   "metadata": {},
   "outputs": [
    {
     "name": "stdout",
     "output_type": "stream",
     "text": [
      "GAM                                                                                                       \n",
      "=============================================== ==========================================================\n",
      "Distribution:                         GammaDist Effective DoF:                                    240.1386\n",
      "Link Function:                          LogLink Log Likelihood:                               -242783.2238\n",
      "Number of Samples:                        19110 AIC:                                           486048.7248\n",
      "                                                AICc:                                           486054.914\n",
      "                                                GCV:                                                0.0302\n",
      "                                                Scale:                                              0.0302\n",
      "                                                Pseudo R-Squared:                                   0.9046\n",
      "==========================================================================================================\n",
      "Feature Function                  Lambda               Rank         EDoF         P > x        Sig. Code   \n",
      "================================= ==================== ============ ============ ============ ============\n",
      "s(2)                              [0.6]                25           17.0         8.22e-08     ***         \n",
      "s(3)                              [0.6]                25           10.2         1.11e-16     ***         \n",
      "s(4)                              [0.6]                25           15.0         1.33e-15     ***         \n",
      "s(5)                              [0.6]                25           4.2          1.11e-16     ***         \n",
      "s(6)                              [0.6]                25           2.3          1.11e-16     ***         \n",
      "s(7)                              [0.6]                25           2.2          1.11e-16     ***         \n",
      "s(8)                              [0.6]                25           5.1          1.11e-16     ***         \n",
      "s(9)                              [0.6]                25           12.8         1.11e-16     ***         \n",
      "te(0, 1)                          [0.6 0.6]            625          159.9        1.11e-16     ***         \n",
      "te(2, 9)                          [0.6 0.6]            625          11.5         1.11e-16     ***         \n",
      "intercept                                              1            0.0          1.11e-16     ***         \n",
      "==========================================================================================================\n",
      "Significance codes:  0 '***' 0.001 '**' 0.01 '*' 0.05 '.' 0.1 ' ' 1\n",
      "\n",
      "WARNING: Fitting splines and a linear function to a feature introduces a model identifiability problem\n",
      "         which can cause p-values to appear significant when they are not.\n",
      "\n",
      "WARNING: p-values calculated in this manner behave correctly for un-penalized models or models with\n",
      "         known smoothing parameters, but when smoothing parameters have been estimated, the p-values\n",
      "         are typically lower than they should be, meaning that the tests reject the null too readily.\n"
     ]
    },
    {
     "name": "stderr",
     "output_type": "stream",
     "text": [
      "/Users/frkornet/opt/anaconda3/envs/learn/lib/python3.7/site-packages/ipykernel_launcher.py:1: UserWarning: KNOWN BUG: p-values computed in this summary are likely much smaller than they should be. \n",
      " \n",
      "Please do not make inferences based on these values! \n",
      "\n",
      "Collaborate on a solution, and stay up to date at: \n",
      "github.com/dswah/pyGAM/issues/163 \n",
      "\n",
      "  \"\"\"Entry point for launching an IPython kernel.\n"
     ]
    }
   ],
   "source": [
    "# display the fit results\n",
    "gam.summary()"
   ]
  },
  {
   "cell_type": "code",
   "execution_count": 23,
   "metadata": {},
   "outputs": [
    {
     "name": "stdout",
     "output_type": "stream",
     "text": [
      "R^2: 0.8663281276709829\n",
      "MAE: 68092.39539844771\n",
      "RMSE: 124200.75651839456\n"
     ]
    }
   ],
   "source": [
    "# use the model to make predictions\n",
    "y_pred = gam.predict(X_test)\n",
    "\n",
    "# check the metrics for the predictions\n",
    "print(\"R^2:\", r2_score(y_test, y_pred))\n",
    "print(\"MAE:\", mean_absolute_error(y_test, y_pred))\n",
    "print(\"RMSE:\", np.sqrt(mean_squared_error(y_test, y_pred)))\n"
   ]
  },
  {
   "cell_type": "code",
   "execution_count": 31,
   "metadata": {},
   "outputs": [
    {
     "name": "stdout",
     "output_type": "stream",
     "text": [
      "Total: 2124 \n",
      "Over: 1068 \n",
      "Under: 1056\n"
     ]
    }
   ],
   "source": [
    "# look at over- and under-prediction\n",
    "over_or_under = y_test - y_pred\n",
    "total = len(over_or_under)\n",
    "over  = len(over_or_under[over_or_under <  0])\n",
    "under = len(over_or_under[over_or_under >= 0])\n",
    "\n",
    "print(\"Total:\", total, \"\\nOver:\", over, \"\\nUnder:\", under)"
   ]
  }
 ],
 "metadata": {
  "kernelspec": {
   "display_name": "Python 3",
   "language": "python",
   "name": "python3"
  },
  "language_info": {
   "codemirror_mode": {
    "name": "ipython",
    "version": 3
   },
   "file_extension": ".py",
   "mimetype": "text/x-python",
   "name": "python",
   "nbconvert_exporter": "python",
   "pygments_lexer": "ipython3",
   "version": "3.6.9"
  }
 },
 "nbformat": 4,
 "nbformat_minor": 2
}
